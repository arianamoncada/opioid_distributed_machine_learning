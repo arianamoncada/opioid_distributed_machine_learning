{
 "cells": [
  {
   "cell_type": "markdown",
   "metadata": {},
   "source": [
    "# IRS Data"
   ]
  },
  {
   "cell_type": "code",
   "execution_count": 139,
   "metadata": {},
   "outputs": [],
   "source": [
    "import pandas as pd"
   ]
  },
  {
   "cell_type": "markdown",
   "metadata": {},
   "source": [
    "# 2006"
   ]
  },
  {
   "cell_type": "code",
   "execution_count": 358,
   "metadata": {},
   "outputs": [],
   "source": [
    "df_06 = pd.read_excel('./ZipCode_IRS_Data/ZIP_Code_2006_CA.xls', header=6, skiprows=13)"
   ]
  },
  {
   "cell_type": "code",
   "execution_count": 359,
   "metadata": {},
   "outputs": [],
   "source": [
    "# AGI = Adjusted Gross Income\n",
    "# _1 = NumReturns\n",
    "# (without appended _) = Amount\n",
    "column_names_06 = ['Size_of_AGI', 'ZipCode', 'Num_Returns',\n",
    "                'Num_Exemptions_Total', 'Num_Exemptions_Dependent',\n",
    "                'Adjusted_Gross_Income',\n",
    "                'Salaries_Wages_1', 'Salaries_Wages',\n",
    "                'Taxable_Interest_1', 'Taxable_Interest',\n",
    "                'Ordinary_Dividends_1', 'Ordinary_Dividends',\n",
    "                'NetCapital_Gain_lessloss_AGI_1', 'NetCapital_Gain_lessloss_AGI',\n",
    "                'Business_Profession_NetIncome_lessloss_1', 'Business_Profession_NetIncome_lessloss',\n",
    "                'Farm_1', 'Farm_2',\n",
    "                'IRA_Payment_Deduction_1', 'IRA_Payment_Deduction',\n",
    "                'SelfEmployment_Retirement_Plans_1', 'SelfEmployment_Retirement_Plans',\n",
    "                'Total_Itemized_Deduction_1', 'Total_Itemized_Deduction_AGI', 'Total_Itemized_Deduction',\n",
    "                'Contributions_1', 'Contributions_AGI', 'Contributions',\n",
    "                'Taxes_Paid_1', 'Taxes_Paid_AGI', 'Taxes_Paid',\n",
    "                'Alternative_Minimum_Tax_1', 'Alternative_Minimum_Tax',\n",
    "                'IncomeTax_Before_Credits_1', 'IncomeTax_Before_Credits',\n",
    "                'TotalTax_1', 'TotalTax',\n",
    "                'Earned_Income_Credit_1', 'Earned_Income_Credit',\n",
    "                'Num_Paid_Preparer_Signature']"
   ]
  },
  {
   "cell_type": "code",
   "execution_count": 360,
   "metadata": {},
   "outputs": [],
   "source": [
    "df_06.columns = column_names_06\n",
    "df_06.loc[df_06['Size_of_AGI'] == df_06['ZipCode'], 'Size_of_AGI'] = 'All'\n",
    "df_06['Year'] = 2006"
   ]
  },
  {
   "cell_type": "code",
   "execution_count": 361,
   "metadata": {},
   "outputs": [],
   "source": [
    "index06 = df_06.loc[df_06['ZipCode'].isna()].index\n",
    "df_06.drop(index06 , inplace=True)"
   ]
  },
  {
   "cell_type": "markdown",
   "metadata": {},
   "source": [
    "# 2007"
   ]
  },
  {
   "cell_type": "code",
   "execution_count": 212,
   "metadata": {},
   "outputs": [],
   "source": [
    "df_07 = pd.read_excel('./ZipCode_IRS_Data/ZIP_Code_2007_CA.xls', header=5, skiprows=12)"
   ]
  },
  {
   "cell_type": "code",
   "execution_count": 213,
   "metadata": {},
   "outputs": [],
   "source": [
    "# AGI = Adjusted Gross Income\n",
    "# _1 = NumReturns\n",
    "# (without appended _) = Amount\n",
    "column_names_07 = ['Size_of_AGI', 'ZipCode', 'Num_Returns',\n",
    "                   'Num_Joint_Returns', 'Num_Paid_Preparer_Signature',\n",
    "                   'Num_Exemptions_Total', 'Num_Exemptions_Dependent',\n",
    "                   'Adjusted_Gross_Income',\n",
    "                   'Salaries_Wages_1', 'Salaries_Wages',\n",
    "                   'Taxable_Interest_1', 'Taxable_Interest',\n",
    "                   'Ordinary_Dividends_1', 'Ordinary_Dividends',\n",
    "                   'Business_Profession_NetIncome_lessloss_1', 'Business_Profession_NetIncome_lessloss',\n",
    "                   'Farm_1',\n",
    "                   'NetCapital_Gain_lessloss_AGI_1', 'NetCapital_Gain_lessloss_AGI',\n",
    "                   'Taxable_Indiv_Retirement_Arrangement_Distr_1', 'Taxable_Indiv_Retirement_Arrangement_Distr',\n",
    "                   'Pensions_Annuities_AGI_1', 'Pensions_Annuities_AGI',\n",
    "                   'Unemployment_Compensation_AGI_1', 'Unemployment_Compensation_AGI',\n",
    "                   'SocialSecurity_Benefits_AGI_1', 'SocialSecurity_Benefits_AGI',\n",
    "                   'SelfEmployment_Retirement_Plans_1', 'SelfEmployment_Retirement_Plans',\n",
    "                   'Total_Itemized_Deduction_1', 'Total_Itemized_Deduction',\n",
    "                   'State_Local_Income_Taxes_1', 'State_Local_Income_Taxes',\n",
    "                   'State_Local_GeneralSales_Taxes_1', 'State_Local_GeneralSales_Taxes',\n",
    "                   'Real_Estate_Taxes_1', 'Real_Estate_Taxes',\n",
    "                   'Taxes_Paid_1', 'Taxes_Paid',\n",
    "                   'Mortgage_Interest_Paid_1', 'Mortgage_Interest_Paid',\n",
    "                   'Contributions_1', 'Contributions',\n",
    "                   'Taxable_Income_1', 'Taxable_Income',\n",
    "                   'Total_Tax_Credits_1', 'Total_Tax_Credits',\n",
    "                   'Residential_Energy_Credit_1', 'Residential_Energy_Credit',\n",
    "                   'Child_Tax_Credit_1', 'Child_Tax_Credit',\n",
    "                   'Child_and_Dependent_Care_Credit_1', 'Child_and_Dependent_Care_Credit',\n",
    "                   'Earned_Income_Credit_1', 'Earned_Income_Credit',\n",
    "                   'Excess_Earned_Income_Credit_Refundable_1', 'Excess_Earned_Income_Credit_Refundable',\n",
    "                   'Alternative_Minimum_Tax_1', 'Alternative_Minimum_Tax',\n",
    "                   'Income_Tax_1', 'Income_Tax',\n",
    "                   'Total_Tax_Liability_1', 'Total_Tax_Liability',\n",
    "                   'Tax_Due_At_Filing_1','Tax_Due_At_Filing',\n",
    "                   'Overpayments_Refunded_1', 'Overpayments_Refunded']"
   ]
  },
  {
   "cell_type": "code",
   "execution_count": 214,
   "metadata": {},
   "outputs": [],
   "source": [
    "df_07.columns = column_names_07\n",
    "df_07.loc[(df_07['Size_of_AGI'].isna()) & (~df_07['ZipCode'].isna()), 'Size_of_AGI'] = 'All'\n",
    "df_07['Year'] = 2007"
   ]
  },
  {
   "cell_type": "code",
   "execution_count": 215,
   "metadata": {},
   "outputs": [],
   "source": [
    "index07 = df_07.loc[df_07['ZipCode'].isna()].index\n",
    "df_07.drop(index07 , inplace=True)"
   ]
  },
  {
   "cell_type": "markdown",
   "metadata": {},
   "source": [
    "# 2008"
   ]
  },
  {
   "cell_type": "code",
   "execution_count": 216,
   "metadata": {},
   "outputs": [],
   "source": [
    "df_08 = pd.read_excel('./ZipCode_IRS_Data/ZIP_Code_2008_CA.xls', header=6, skiprows=12)"
   ]
  },
  {
   "cell_type": "code",
   "execution_count": 217,
   "metadata": {},
   "outputs": [],
   "source": [
    "# AGI = Adjusted Gross Income\n",
    "# _1 = NumReturns\n",
    "# (without appended _) = Amount\n",
    "column_names_08 = ['Size_of_AGI','ZipCode',\n",
    "                     'Num_Returns',\n",
    "                     'Num_Joint_Returns',\n",
    "                     'Num_Paid_Preparer_Signature',\n",
    "                     'Num_Exemptions_Total',\n",
    "                     'Num_Exemptions_Dependent',\n",
    "                     'Adjusted_Gross_Income',\n",
    "                     'Salaries_Wages',\n",
    "                     'Taxable_Interest',\n",
    "                     'Ordinary_Dividends',\n",
    "                     'Business_Profession_NetIncome_lessloss',\n",
    "                     'NetCapital_Gain_lessloss_AGI',\n",
    "                     'Taxable_Indiv_Retirement_Arrangement_Distr',\n",
    "                     'Pensions_Annuities_AGI',\n",
    "                     'Unemployment_Compensation_AGI',\n",
    "                     'SocialSecurity_Benefits_AGI',\n",
    "                     'SelfEmployment_Retirement_Plans',\n",
    "                     'Total_Itemized_Deduction',\n",
    "                     'State_Local_Income_Taxes',\n",
    "                     'State_Local_GeneralSales_Taxes',\n",
    "                     'Real_Estate_Taxes',\n",
    "                     'Taxes_Paid',\n",
    "                     'Mortgage_Interest_Paid',\n",
    "                     'Contributions',\n",
    "                     'Taxable_Income',\n",
    "                     'Total_Tax_Credits',\n",
    "                     'Residential_Energy_Credit',\n",
    "                     'Child_Tax_Credit',\n",
    "                     'Child_and_Dependent_Care_Credit',\n",
    "                     'Earned_Income_Credit',\n",
    "                     'Excess_Earned_Income_Credit_Refundable',\n",
    "                     'Alternative_Minimum_Tax',\n",
    "                     'Income_Tax',\n",
    "                     'Total_Tax_Liability',\n",
    "                     'Tax_Due_At_Filing',\n",
    "                     'Overpayments_Refunded']"
   ]
  },
  {
   "cell_type": "code",
   "execution_count": 218,
   "metadata": {},
   "outputs": [],
   "source": [
    "df_08.columns = column_names_08\n",
    "df_08.loc[(df_08['Size_of_AGI'].isna()) & (~df_08['ZipCode'].isna()), 'Size_of_AGI'] = 'All'\n",
    "df_08['Year'] = 2008"
   ]
  },
  {
   "cell_type": "code",
   "execution_count": 219,
   "metadata": {},
   "outputs": [],
   "source": [
    "index08 = df_08.loc[df_08['ZipCode'].isna()].index\n",
    "df_08.drop(index08 , inplace=True)"
   ]
  },
  {
   "cell_type": "markdown",
   "metadata": {},
   "source": [
    "# 2009"
   ]
  },
  {
   "cell_type": "code",
   "execution_count": 220,
   "metadata": {},
   "outputs": [],
   "source": [
    "df_09 = pd.read_excel('./ZipCode_IRS_Data/ZIP_Code_2009_CA.xls', header=3, skiprows=10)"
   ]
  },
  {
   "cell_type": "code",
   "execution_count": 221,
   "metadata": {},
   "outputs": [],
   "source": [
    "# AGI = Adjusted Gross Income\n",
    "# _1 = NumReturns\n",
    "# (without appended _) = Amount\n",
    "column_names_09 = ['ZipCode',\n",
    "                     'Size_of_AGI',\n",
    "                     'Num_Returns',\n",
    "                     'Num_Joint_Returns',\n",
    "                     \"Num_Paid_Preparer_Signature\",\n",
    "                     'Num_Exemptions_Total',\n",
    "                     'Num_Exemptions_Dependent',\n",
    "                     'Adjusted_Gross_Income',\n",
    "                     'Salaries_Wages_1', 'Salaries_Wages',\n",
    "                     'Taxable_Interest_1','Taxable_Interest',\n",
    "                     'Ordinary_Dividends_1', 'Ordinary_Dividends',\n",
    "                     'Qualified_Dividends_1', 'Qualified_Dividends',\n",
    "                     'Business_Profession_NetIncome_lessloss_1', 'Business_Profession_NetIncome_lessloss',\n",
    "                     'Farm_1',\n",
    "                     'NetCapital_Gain_lessloss_AGI_1', 'NetCapital_Gain_lessloss_AGI',\n",
    "                     'Taxable_Indiv_Retirement_Arrangement_Distr_1', 'Taxable_Indiv_Retirement_Arrangement_Distr',\n",
    "                     'Pensions_Annuities_AGI_1', 'Pensions_Annuities_AGI',\n",
    "                     'Unemployment_Compensation_AGI_1', 'Unemployment_Compensation_AGI',\n",
    "                     'SocialSecurity_Benefits_AGI_1', 'SocialSecurity_Benefits_AGI',\n",
    "                     'SelfEmployment_Retirement_Plans_1', 'SelfEmployment_Retirement_Plans',\n",
    "                     'Total_Itemized_Deduction_1', 'Total_Itemized_Deduction',\n",
    "                     'State_Local_Income_Taxes_1', 'State_Local_Income_Taxes',\n",
    "                     'State_Local_GeneralSales_Taxes_1', 'State_Local_GeneralSales_Taxes',\n",
    "                     'Real_Estate_Taxes_1', 'Real_Estate_Taxes',\n",
    "                     'Taxes_Paid_1', 'Taxes_Paid',\n",
    "                     'Mortgage_Interest_Paid_1', 'Mortgage_Interest_Paid',\n",
    "                     'Contributions_1', 'Contributions',\n",
    "                     'Taxable_Income_1', 'Taxable_Income',\n",
    "                     'Total_Tax_Credits_1', 'Total_Tax_Credits',\n",
    "                     'Residential_Energy_Credit_1', 'Residential_Energy_Credit',\n",
    "                     'Child_Tax_Credit_1', 'Child_Tax_Credit',\n",
    "                     'Child_and_Dependent_Care_Credit_1', 'Child_and_Dependent_Care_Credit',\n",
    "                     'Additional_Child_Tax_Credit_1', 'Additional_Child_Tax_Credit',\n",
    "                     'Earned_Income_Credit_1', 'Earned_Income_Credit',\n",
    "                     'Excess_Earned_Income_Credit_Refundable_1', 'Excess_Earned_Income_Credit_Refundable',\n",
    "                     'Alternative_Minimum_Tax_1', 'Alternative_Minimum_Tax',\n",
    "                     'Income_Tax_1', 'Income_Tax',\n",
    "                     'Total_Tax_Liability_1', 'Total_Tax_Liability',\n",
    "                     'Tax_Due_At_Filing_1', 'Tax_Due_At_Filing',\n",
    "                     'Overpayments_Refunded_1','Overpayments_Refunded']"
   ]
  },
  {
   "cell_type": "code",
   "execution_count": 222,
   "metadata": {},
   "outputs": [],
   "source": [
    "df_09.columns = column_names_09\n",
    "df_09.loc[(df_09['Size_of_AGI'].isna()) & (~df_09['ZipCode'].isna()), 'Size_of_AGI'] = 'All'\n",
    "df_09['Year'] = 2009"
   ]
  },
  {
   "cell_type": "code",
   "execution_count": 223,
   "metadata": {},
   "outputs": [],
   "source": [
    "index09 = df_09.loc[df_09['ZipCode'].isna()].index\n",
    "df_09.drop(index09 , inplace=True)"
   ]
  },
  {
   "cell_type": "code",
   "execution_count": 224,
   "metadata": {},
   "outputs": [],
   "source": [
    "# Excel file had a footer\n",
    "index_09_footer = df_09.loc[df_09['Num_Returns'].isna()].index\n",
    "df_09.drop(index_09_footer , inplace=True)"
   ]
  },
  {
   "cell_type": "markdown",
   "metadata": {},
   "source": [
    "# 2010"
   ]
  },
  {
   "cell_type": "code",
   "execution_count": 225,
   "metadata": {},
   "outputs": [],
   "source": [
    "df_10 = pd.read_excel('./ZipCode_IRS_Data/ZIP_Code_2010_CA.xls', header=3, skiprows=10)"
   ]
  },
  {
   "cell_type": "code",
   "execution_count": 159,
   "metadata": {},
   "outputs": [],
   "source": [
    "# df_10.head()"
   ]
  },
  {
   "cell_type": "code",
   "execution_count": 226,
   "metadata": {},
   "outputs": [],
   "source": [
    "# AGI = Adjusted Gross Income\n",
    "# _1 = NumReturns\n",
    "# (without appended _) = Amount\n",
    "column_names_10 = ['ZipCode',\n",
    "                     'Size_of_AGI',\n",
    "                     'Num_Returns',\n",
    "                     'Num_Joint_Returns',\n",
    "                     \"Num_Paid_Preparer_Signature\",\n",
    "                     'Num_Exemptions_Total',\n",
    "                     'Num_Exemptions_Dependent',\n",
    "                     'Adjusted_Gross_Income',\n",
    "                     'Salaries_Wages_1', 'Salaries_Wages',\n",
    "                     'Taxable_Interest_1','Taxable_Interest',\n",
    "                     'Ordinary_Dividends_1', 'Ordinary_Dividends',\n",
    "                     'Qualified_Dividends_1', 'Qualified_Dividends',\n",
    "                     'Business_Profession_NetIncome_lessloss_1', 'Business_Profession_NetIncome_lessloss',\n",
    "                     'Farm_1',\n",
    "                     'NetCapital_Gain_lessloss_AGI_1', 'NetCapital_Gain_lessloss_AGI',\n",
    "                     'Taxable_Indiv_Retirement_Arrangement_Distr_1', 'Taxable_Indiv_Retirement_Arrangement_Distr',\n",
    "                     'Pensions_Annuities_AGI_1', 'Pensions_Annuities_AGI',\n",
    "                     'Unemployment_Compensation_AGI_1', 'Unemployment_Compensation_AGI',\n",
    "                     'SocialSecurity_Benefits_AGI_1', 'SocialSecurity_Benefits_AGI',\n",
    "                     'SelfEmployment_Retirement_Plans_1', 'SelfEmployment_Retirement_Plans',\n",
    "                     'Total_Itemized_Deduction_1', 'Total_Itemized_Deduction',\n",
    "                     'State_Local_Income_Taxes_1', 'State_Local_Income_Taxes',\n",
    "                     'State_Local_GeneralSales_Taxes_1', 'State_Local_GeneralSales_Taxes',\n",
    "                     'Real_Estate_Taxes_1', 'Real_Estate_Taxes',\n",
    "                     'Taxes_Paid_1', 'Taxes_Paid',\n",
    "                     'Mortgage_Interest_Paid_1', 'Mortgage_Interest_Paid',\n",
    "                     'Contributions_1', 'Contributions',\n",
    "                     'Taxable_Income_1', 'Taxable_Income',\n",
    "                     'Total_Tax_Credits_1', 'Total_Tax_Credits',\n",
    "                     'Residential_Energy_Credit_1', 'Residential_Energy_Credit',\n",
    "                     'Child_Tax_Credit_1', 'Child_Tax_Credit',\n",
    "                     'Child_and_Dependent_Care_Credit_1', 'Child_and_Dependent_Care_Credit',\n",
    "                     'Additional_Child_Tax_Credit_1', 'Additional_Child_Tax_Credit',\n",
    "                     'Earned_Income_Credit_1', 'Earned_Income_Credit',\n",
    "                     'Excess_Earned_Income_Credit_Refundable_1', 'Excess_Earned_Income_Credit_Refundable',\n",
    "                     'Alternative_Minimum_Tax_1', 'Alternative_Minimum_Tax',\n",
    "                     'Income_Tax_1', 'Income_Tax',\n",
    "                     'Total_Tax_Liability_1', 'Total_Tax_Liability',\n",
    "                     'Tax_Due_At_Filing_1', 'Tax_Due_At_Filing',\n",
    "                     'Overpayments_Refunded_1','Overpayments_Refunded']"
   ]
  },
  {
   "cell_type": "code",
   "execution_count": 227,
   "metadata": {},
   "outputs": [],
   "source": [
    "df_10.columns = column_names_10\n",
    "df_10.loc[(df_10['Size_of_AGI'].isna()) & (~df_10['ZipCode'].isna()), 'Size_of_AGI'] = 'All'\n",
    "df_10['Year'] = 2010"
   ]
  },
  {
   "cell_type": "code",
   "execution_count": 228,
   "metadata": {},
   "outputs": [],
   "source": [
    "index10 = df_10.loc[df_10['ZipCode'].isna()].index\n",
    "df_10.drop(index10 , inplace=True)"
   ]
  },
  {
   "cell_type": "code",
   "execution_count": 229,
   "metadata": {},
   "outputs": [],
   "source": [
    "# Excel file had a footer\n",
    "index_10_footer = df_10.loc[df_10['Num_Returns'].isna()].index\n",
    "df_10.drop(index_10_footer , inplace=True)"
   ]
  },
  {
   "cell_type": "markdown",
   "metadata": {},
   "source": [
    "# 2011"
   ]
  },
  {
   "cell_type": "code",
   "execution_count": 230,
   "metadata": {},
   "outputs": [],
   "source": [
    "df_11 = pd.read_excel('./ZipCode_IRS_Data/ZIP_Code_2011_CA.xls', header=3, skiprows=10)"
   ]
  },
  {
   "cell_type": "code",
   "execution_count": 96,
   "metadata": {},
   "outputs": [],
   "source": [
    "# df_11.head()"
   ]
  },
  {
   "cell_type": "code",
   "execution_count": 231,
   "metadata": {},
   "outputs": [],
   "source": [
    "# AGI = Adjusted Gross Income\n",
    "# _1 = NumReturns\n",
    "# (without appended _) = Amount\n",
    "column_names_11 = ['ZipCode',\n",
    "                     'Size_of_AGI',\n",
    "                     'Num_Returns',\n",
    "                     'Num_Joint_Returns',\n",
    "                     \"Num_Paid_Preparer_Signature\",\n",
    "                     'Num_Exemptions_Total',\n",
    "                     'Num_Exemptions_Dependent',\n",
    "                     'Adjusted_Gross_Income',\n",
    "                     'Salaries_Wages_1', 'Salaries_Wages',\n",
    "                     'Taxable_Interest_1','Taxable_Interest',\n",
    "                     'Ordinary_Dividends_1', 'Ordinary_Dividends',\n",
    "                     'Qualified_Dividends_1', 'Qualified_Dividends',\n",
    "                     'Business_Profession_NetIncome_lessloss_1', 'Business_Profession_NetIncome_lessloss',\n",
    "                     'Farm_1',\n",
    "                     'NetCapital_Gain_lessloss_AGI_1', 'NetCapital_Gain_lessloss_AGI',\n",
    "                     'Taxable_Indiv_Retirement_Arrangement_Distr_1', 'Taxable_Indiv_Retirement_Arrangement_Distr',\n",
    "                     'Pensions_Annuities_AGI_1', 'Pensions_Annuities_AGI',\n",
    "                     'Unemployment_Compensation_AGI_1', 'Unemployment_Compensation_AGI',\n",
    "                     'SocialSecurity_Benefits_AGI_1', 'SocialSecurity_Benefits_AGI',\n",
    "                     'SelfEmployment_Retirement_Plans_1', 'SelfEmployment_Retirement_Plans',\n",
    "                     'Total_Itemized_Deduction_1', 'Total_Itemized_Deduction',\n",
    "                     'State_Local_Income_Taxes_1', 'State_Local_Income_Taxes',\n",
    "                     'State_Local_GeneralSales_Taxes_1', 'State_Local_GeneralSales_Taxes',\n",
    "                     'Real_Estate_Taxes_1', 'Real_Estate_Taxes',\n",
    "                     'Taxes_Paid_1', 'Taxes_Paid',\n",
    "                     'Mortgage_Interest_Paid_1', 'Mortgage_Interest_Paid',\n",
    "                     'Contributions_1', 'Contributions',\n",
    "                     'Taxable_Income_1', 'Taxable_Income',\n",
    "                     'Total_Tax_Credits_1', 'Total_Tax_Credits',\n",
    "                     'Residential_Energy_Credit_1', 'Residential_Energy_Credit',\n",
    "                     'Child_Tax_Credit_1', 'Child_Tax_Credit',\n",
    "                     'Child_and_Dependent_Care_Credit_1', 'Child_and_Dependent_Care_Credit',\n",
    "                     'Additional_Child_Tax_Credit_1', 'Additional_Child_Tax_Credit',\n",
    "                     'Earned_Income_Credit_1', 'Earned_Income_Credit',\n",
    "                     'Excess_Earned_Income_Credit_Refundable_1', 'Excess_Earned_Income_Credit_Refundable',\n",
    "                     'Alternative_Minimum_Tax_1', 'Alternative_Minimum_Tax',\n",
    "                     'Income_Tax_1', 'Income_Tax',\n",
    "                     'Total_Tax_Liability_1', 'Total_Tax_Liability',\n",
    "                     'Tax_Due_At_Filing_1', 'Tax_Due_At_Filing',\n",
    "                     'Overpayments_Refunded_1','Overpayments_Refunded']"
   ]
  },
  {
   "cell_type": "code",
   "execution_count": 232,
   "metadata": {},
   "outputs": [],
   "source": [
    "df_11.columns = column_names_11\n",
    "df_11.loc[(df_11['Size_of_AGI'].isna()) & (~df_11['ZipCode'].isna()), 'Size_of_AGI'] = 'All'\n",
    "df_11['Year'] = 2011"
   ]
  },
  {
   "cell_type": "code",
   "execution_count": 233,
   "metadata": {},
   "outputs": [],
   "source": [
    "index11 = df_11.loc[df_11['ZipCode'].isna()].index\n",
    "df_11.drop(index11 , inplace=True)"
   ]
  },
  {
   "cell_type": "code",
   "execution_count": 234,
   "metadata": {},
   "outputs": [],
   "source": [
    "# Excel file had a footer\n",
    "index_11_footer = df_11.loc[df_11['Num_Returns'].isna()].index\n",
    "df_11.drop(index_11_footer , inplace=True)"
   ]
  },
  {
   "cell_type": "markdown",
   "metadata": {},
   "source": [
    "# 2012"
   ]
  },
  {
   "cell_type": "code",
   "execution_count": 235,
   "metadata": {},
   "outputs": [],
   "source": [
    "df_12 = pd.read_excel('./ZipCode_IRS_Data/ZIP_Code_2012_CA.xls', header=3, skiprows=10)"
   ]
  },
  {
   "cell_type": "code",
   "execution_count": 236,
   "metadata": {},
   "outputs": [],
   "source": [
    "# AGI = Adjusted Gross Income\n",
    "# _1 = NumReturns\n",
    "# (without appended _) = Amount\n",
    "column_names_12 = ['ZipCode',\n",
    "                     'Size_of_AGI',\n",
    "                     'Num_Returns',\n",
    "                     'Num_Single_Returns',\n",
    "                     'Num_Joint_Returns',\n",
    "                     'Num_Head_of_Household_Returns',\n",
    "                     \"Num_Paid_Preparer_Signature\",\n",
    "                     'Num_Exemptions_Total',\n",
    "                     'Num_Exemptions_Dependent',\n",
    "                     'Adjusted_Gross_Income',\n",
    "                     'Salaries_Wages_1', 'Salaries_Wages',\n",
    "                     'Taxable_Interest_1','Taxable_Interest',\n",
    "                     'Ordinary_Dividends_1', 'Ordinary_Dividends',\n",
    "                     'Qualified_Dividends_1', 'Qualified_Dividends',\n",
    "                     'Business_Profession_NetIncome_lessloss_1', 'Business_Profession_NetIncome_lessloss',\n",
    "                     'Farm_1',\n",
    "                     'NetCapital_Gain_lessloss_AGI_1', 'NetCapital_Gain_lessloss_AGI',\n",
    "                     'Taxable_Indiv_Retirement_Arrangement_Distr_1', 'Taxable_Indiv_Retirement_Arrangement_Distr',\n",
    "                     'Pensions_Annuities_AGI_1', 'Pensions_Annuities_AGI',\n",
    "                     'Unemployment_Compensation_AGI_1', 'Unemployment_Compensation_AGI',\n",
    "                     'SocialSecurity_Benefits_AGI_1', 'SocialSecurity_Benefits_AGI',\n",
    "                     'SelfEmployment_Retirement_Plans_1', 'SelfEmployment_Retirement_Plans',\n",
    "                     'Total_Itemized_Deduction_1', 'Total_Itemized_Deduction_AGI' ,'Total_Itemized_Deduction',\n",
    "                     'State_Local_Income_Taxes_1', 'State_Local_Income_Taxes',\n",
    "                     'State_Local_GeneralSales_Taxes_1', 'State_Local_GeneralSales_Taxes',\n",
    "                     'Real_Estate_Taxes_1', 'Real_Estate_Taxes',\n",
    "                     'Taxes_Paid_1', 'Taxes_Paid',\n",
    "                     'Mortgage_Interest_Paid_1', 'Mortgage_Interest_Paid',\n",
    "                     'Contributions_1', 'Contributions',\n",
    "                     'Taxable_Income_1', 'Taxable_Income',\n",
    "                     'Alternative_Minimum_Tax_1', 'Alternative_Minimum_Tax',\n",
    "                     'Total_Tax_Credits_1', 'Total_Tax_Credits',\n",
    "                     'Child_and_Dependent_Care_Credit_1', 'Child_and_Dependent_Care_Credit',\n",
    "                     'Child_Tax_Credit_1', 'Child_Tax_Credit',\n",
    "                     'Residential_Energy_Credit_1', 'Residential_Energy_Credit',\n",
    "                     'Earned_Income_Credit_1', 'Earned_Income_Credit',\n",
    "                     'Excess_Earned_Income_Credit_Refundable_1', 'Excess_Earned_Income_Credit_Refundable',\n",
    "                     'Additional_Child_Tax_Credit_1', 'Additional_Child_Tax_Credit',\n",
    "                     'Income_Tax_1', 'Income_Tax',\n",
    "                     'Total_Tax_Liability_1', 'Total_Tax_Liability',\n",
    "                     'Tax_Due_At_Filing_1', 'Tax_Due_At_Filing',\n",
    "                     'Overpayments_Refunded_1','Overpayments_Refunded']"
   ]
  },
  {
   "cell_type": "code",
   "execution_count": 237,
   "metadata": {},
   "outputs": [],
   "source": [
    "df_12.columns = column_names_12\n",
    "df_12.loc[(df_12['Size_of_AGI'].isna()) & (~df_12['ZipCode'].isna()), 'Size_of_AGI'] = 'All'\n",
    "df_12['Year'] = 2012"
   ]
  },
  {
   "cell_type": "code",
   "execution_count": 238,
   "metadata": {},
   "outputs": [],
   "source": [
    "index12 = df_12.loc[df_12['ZipCode'].isna()].index\n",
    "df_12.drop(index12 , inplace=True)"
   ]
  },
  {
   "cell_type": "code",
   "execution_count": 239,
   "metadata": {},
   "outputs": [],
   "source": [
    "# Excel file had a footer\n",
    "index_12_footer = df_12.loc[df_12['Num_Returns'].isna()].index\n",
    "df_12.drop(index_12_footer , inplace=True)"
   ]
  },
  {
   "cell_type": "markdown",
   "metadata": {},
   "source": [
    "# -----------------------------------------------"
   ]
  },
  {
   "cell_type": "markdown",
   "metadata": {},
   "source": [
    "# Get Common Features for all Datasets"
   ]
  },
  {
   "cell_type": "code",
   "execution_count": 348,
   "metadata": {},
   "outputs": [],
   "source": [
    "final_common_features = ['ZipCode',\n",
    "                        'Size_of_AGI',\n",
    "                        'Num_Returns',\n",
    "                        'Num_Joint_Returns',\n",
    "                        'Num_Paid_Preparer_Signature',\n",
    "                        'Num_Exemptions_Total',\n",
    "                        'Num_Exemptions_Dependent',\n",
    "                        'Adjusted_Gross_Income',\n",
    "                        'Salaries_Wages',\n",
    "                        'Taxable_Interest',\n",
    "                        'Ordinary_Dividends',\n",
    "                        'Business_Profession_NetIncome_lessloss',\n",
    "                        'Farm_1',\n",
    "                        'NetCapital_Gain_lessloss_AGI',\n",
    "                        'Taxable_Indiv_Retirement_Arrangement_Distr',\n",
    "                        'Pensions_Annuities_AGI',\n",
    "                        'Unemployment_Compensation_AGI',\n",
    "                        'SocialSecurity_Benefits_AGI',\n",
    "                        'SelfEmployment_Retirement_Plans',\n",
    "                        'Total_Itemized_Deduction',\n",
    "                        'State_Local_Income_Taxes',\n",
    "                        'State_Local_GeneralSales_Taxes',\n",
    "                        'Real_Estate_Taxes',\n",
    "                        'Taxes_Paid',\n",
    "                        'Mortgage_Interest_Paid',\n",
    "                        'Contributions',\n",
    "                        'Taxable_Income',\n",
    "                        'Alternative_Minimum_Tax',\n",
    "                        'Total_Tax_Credits',\n",
    "                        'Child_and_Dependent_Care_Credit',\n",
    "                        'Child_Tax_Credit',\n",
    "                        'Residential_Energy_Credit',\n",
    "                        'Earned_Income_Credit',\n",
    "                        'Excess_Earned_Income_Credit_Refundable',\n",
    "                        'Additional_Child_Tax_Credit',\n",
    "                        'Income_Tax',\n",
    "                        'Total_Tax_Liability',\n",
    "                        'Tax_Due_At_Filing',\n",
    "                        'Overpayments_Refunded', 'Year']"
   ]
  },
  {
   "cell_type": "code",
   "execution_count": 362,
   "metadata": {},
   "outputs": [],
   "source": [
    "def get_common_features(df, features):\n",
    "    new_df = df\n",
    "    get_cols = [col for col in features if col in new_df.columns]\n",
    "    return new_df.loc[:][get_cols]"
   ]
  },
  {
   "cell_type": "code",
   "execution_count": 363,
   "metadata": {},
   "outputs": [],
   "source": [
    "df_06 = get_common_features(df_06, final_common_features)\n",
    "df_07 = get_common_features(df_07, final_common_features)\n",
    "df_08 = get_common_features(df_08, final_common_features)\n",
    "df_09 = get_common_features(df_09, final_common_features)\n",
    "df_10 = get_common_features(df_10, final_common_features)\n",
    "df_11 = get_common_features(df_11, final_common_features)\n",
    "df_12 = get_common_features(df_12, final_common_features)"
   ]
  },
  {
   "cell_type": "markdown",
   "metadata": {},
   "source": [
    "# Bring Data Long to Wide"
   ]
  },
  {
   "cell_type": "code",
   "execution_count": 364,
   "metadata": {},
   "outputs": [],
   "source": [
    "def pivot_dataframe(df, index_val='ZipCode', by_col='Size_of_AGI'):\n",
    "    new_df = df\n",
    "    new_df = new_df.pivot(index=index_val, columns=by_col)\n",
    "    new_df.columns = ['_'.join(col).rstrip('_') for col in new_df.columns.values]\n",
    "    \n",
    "    remove_cols = []\n",
    "    for col in new_df.columns:\n",
    "        if ('_All' in col) | ('Year' in col):\n",
    "            remove_cols.append(col)\n",
    "            \n",
    "    remove_cols = [col for col in remove_cols if col != 'Year_All']\n",
    "    new_df = new_df.rename(columns={\"Year_All\": \"Year\"}).drop(remove_cols, axis=1)\n",
    "    return new_df"
   ]
  },
  {
   "cell_type": "code",
   "execution_count": 368,
   "metadata": {},
   "outputs": [],
   "source": [
    "df_06 = pivot_dataframe(df_06, index_val='ZipCode', by_col='Size_of_AGI')\n",
    "df_07 = pivot_dataframe(df_07, index_val='ZipCode', by_col='Size_of_AGI')\n",
    "df_08 = pivot_dataframe(df_08, index_val='ZipCode', by_col='Size_of_AGI')\n",
    "df_09 = pivot_dataframe(df_09, index_val='ZipCode', by_col='Size_of_AGI')\n",
    "df_10 = pivot_dataframe(df_10, index_val='ZipCode', by_col='Size_of_AGI')\n",
    "df_11 = pivot_dataframe(df_11, index_val='ZipCode', by_col='Size_of_AGI')\n",
    "df_12 = pivot_dataframe(df_12, index_val='ZipCode', by_col='Size_of_AGI')"
   ]
  },
  {
   "cell_type": "code",
   "execution_count": 372,
   "metadata": {},
   "outputs": [
    {
     "name": "stdout",
     "output_type": "stream",
     "text": [
      "6 120\n",
      "7 253\n",
      "8 246\n",
      "9 223\n",
      "10 223\n",
      "11 223\n",
      "12 223\n"
     ]
    }
   ],
   "source": [
    "print('6', len(df_06.columns))\n",
    "print('7', len(df_07.columns))\n",
    "print('8', len(df_08.columns))\n",
    "print('9', len(df_09.columns))\n",
    "print('10', len(df_10.columns))\n",
    "print('11', len(df_11.columns))\n",
    "print('12', len(df_12.columns))"
   ]
  },
  {
   "cell_type": "markdown",
   "metadata": {},
   "source": [
    "#### For years 06-08 Size of Adjusted Gross Income was \n",
    "$\\text{Under \\$10,000}$\n",
    "\n",
    "$10,000 under $25,000\n",
    "\n",
    "$25,000 under $50,000\n",
    "\n",
    "$50,000 under $75,000\n",
    "\n",
    "$75,000 under $100,000\n",
    "\n",
    "$100,000 under $200,000\n",
    "\n",
    "$200,000 or more"
   ]
  },
  {
   "cell_type": "code",
   "execution_count": 384,
   "metadata": {},
   "outputs": [],
   "source": [
    "# 9-12 was < 25,000 and so on... (the same)"
   ]
  },
  {
   "cell_type": "code",
   "execution_count": 391,
   "metadata": {},
   "outputs": [],
   "source": [
    "# Do This\n",
    "# df_06['Num_Returns_$1 under $25,000'] = df_06['Num_Returns_$10,000 under $25,000'] + df_06['Num_Returns_Under $10,000']"
   ]
  },
  {
   "cell_type": "code",
   "execution_count": 385,
   "metadata": {},
   "outputs": [],
   "source": [
    "# check = [col for col in df_07.columns if col not in df_10.columns]"
   ]
  },
  {
   "cell_type": "code",
   "execution_count": 386,
   "metadata": {},
   "outputs": [],
   "source": [
    "# df_07.loc[:][check]"
   ]
  },
  {
   "cell_type": "code",
   "execution_count": 380,
   "metadata": {},
   "outputs": [],
   "source": [
    "# df_08.loc[:][check]"
   ]
  },
  {
   "cell_type": "code",
   "execution_count": 388,
   "metadata": {},
   "outputs": [],
   "source": [
    "# check"
   ]
  },
  {
   "cell_type": "code",
   "execution_count": null,
   "metadata": {},
   "outputs": [],
   "source": []
  }
 ],
 "metadata": {
  "kernelspec": {
   "display_name": "Python 3",
   "language": "python",
   "name": "python3"
  },
  "language_info": {
   "codemirror_mode": {
    "name": "ipython",
    "version": 3
   },
   "file_extension": ".py",
   "mimetype": "text/x-python",
   "name": "python",
   "nbconvert_exporter": "python",
   "pygments_lexer": "ipython3",
   "version": "3.7.4"
  }
 },
 "nbformat": 4,
 "nbformat_minor": 2
}
