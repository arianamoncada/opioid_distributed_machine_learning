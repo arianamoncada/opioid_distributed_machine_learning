{
 "cells": [
  {
   "cell_type": "code",
   "execution_count": 1,
   "metadata": {},
   "outputs": [],
   "source": [
    "import pandas as pd\n",
    "import time \n",
    "from functools import reduce\n",
    "start_time = time.time()"
   ]
  },
  {
   "cell_type": "code",
   "execution_count": 2,
   "metadata": {},
   "outputs": [],
   "source": [
    "# drugs = pd.read_csv('arcos-ca-statewide-itemized.tsv',nrows = 1000000, sep = '\\t')\n",
    "# drugs = pd.read_csv('arcos-ca-statewide-itemized.tsv', sep = '\\t')"
   ]
  },
  {
   "cell_type": "markdown",
   "metadata": {},
   "source": [
    "# Connecting to S3"
   ]
  },
  {
   "cell_type": "code",
   "execution_count": 3,
   "metadata": {},
   "outputs": [
    {
     "name": "stdout",
     "output_type": "stream",
     "text": [
      "\r\n"
     ]
    }
   ],
   "source": [
    "from pyspark import SparkContext, SparkConf\n",
    "import os\n",
    "os.environ['PYSPARK_SUBMIT_ARGS'] = '--packages \"org.apache.hadoop:hadoop-aws:2.7.4\" pyspark-shell'\n",
    "!echo $JAVA_HOME\n",
    "sc = SparkContext.getOrCreate()\n",
    "\n",
    "# Your AWS S3 Info here\n",
    "with open(\"../../../Keys/aws.csv\") as f:\n",
    "    data = f.read().splitlines()[1].split(\",\")\n",
    "    access = data[2]\n",
    "    sec = data[3]\n",
    "\n",
    "# YOUR AMAZON LOGIN INFORMATION HERE\n",
    "sc._jsc.hadoopConfiguration().set(\"fs.s3.impl\", \"org.apache.hadoop.fs.s3a.S3AFileSystem\")\n",
    "sc._jsc.hadoopConfiguration().set('fs.s3a.access.key', f\"{access}\")\n",
    "\n",
    "sc._jsc.hadoopConfiguration().set('fs.s3a.secret.key', f\"{sec}\")"
   ]
  },
  {
   "cell_type": "markdown",
   "metadata": {},
   "source": [
    "## Exploring the Dataset"
   ]
  },
  {
   "cell_type": "code",
   "execution_count": 4,
   "metadata": {},
   "outputs": [],
   "source": [
    "# drugs.to_csv('./arcos-ca-statewide-sample.tsv', sep = '\\t', index = False)"
   ]
  },
  {
   "cell_type": "code",
   "execution_count": 5,
   "metadata": {},
   "outputs": [],
   "source": [
    "# drugs = pd.read_csv('../arcos-ca-statewide-sample.tsv', sep = '\\t')\n",
    "# drugs.head()"
   ]
  },
  {
   "cell_type": "markdown",
   "metadata": {},
   "source": [
    "## Working on sample of Drug Dataset to make a DataFrame"
   ]
  },
  {
   "cell_type": "code",
   "execution_count": 6,
   "metadata": {},
   "outputs": [],
   "source": [
    "# Agg Sum - CALC_BASE_WT_IN_GM, QUANTITY\n",
    "# Ingredient_Name has two options: HYDROCODONE BITARTRATE HEMIPENTAHYDRATE or OXYCODONE HYDROCHLORIDE"
   ]
  },
  {
   "cell_type": "code",
   "execution_count": 7,
   "metadata": {},
   "outputs": [],
   "source": [
    "from pyspark import SparkConf,SparkContext\n",
    "from pyspark.sql import SparkSession\n",
    "from pyspark.sql.types import *\n",
    "from pyspark.sql.functions import *\n",
    "#from pyspark.sql.functions import concat, col, lit, substring\n",
    "\n",
    "ss = SparkSession.builder.getOrCreate()\n",
    "\n",
    "## S3 Bucket\n",
    "drug_rdd = sc.textFile('./arcos-ca-statewide-sample.tsv').map(lambda x: x.split('\\t'))\n",
    "#drug_rdd = sc.textFile('s3://data-systems-opioid/arcos-ca-statewide-itemized.tsv',24).map(lambda x: x.split('\\t'))\n",
    "\n",
    "\n",
    "def FloatSafe(value): # In case there are non-float type to be converted.\n",
    "    try:\n",
    "        return float(value)\n",
    "    except ValueError:\n",
    "        return None\n",
    "\n",
    "def IntegerSafe(value): # In case there are non-integer type to be converted.\n",
    "    try:\n",
    "        return int(value)\n",
    "    except ValueError:\n",
    "        return None\n",
    "\n",
    "# To reduce size, I remove the first 15 col's which are all unusable Identifiers\n",
    "drug_rdd = drug_rdd.map(lambda x: x[16:25] + x[29:] + [x[11]]).persist()\n",
    "\n",
    "# Columns I removed:\n",
    "# -------------------------\n",
    "# 0'REPORTER_DEA_NO',\n",
    "#  'REPORTER_BUS_ACT',\n",
    "#  'REPORTER_NAME',\n",
    "#  'REPORTER_ADDL_CO_INFO',\n",
    "#  'REPORTER_ADDRESS1',\n",
    "#  'REPORTER_ADDRESS2',\n",
    "#  'REPORTER_CITY',\n",
    "#  'REPORTER_STATE',\n",
    "#  'REPORTER_ZIP',\n",
    "#  'REPORTER_COUNTY'\n",
    "#10'BUYER_DEA_NO',\n",
    "#12 'BUYER_NAME',\n",
    "#  'BUYER_ADDL_CO_INFO',\n",
    "#  'BUYER_ADDRESS1',\n",
    "#15'BUYER_ADDRESS2'\n",
    "\n",
    "# 25 UNIT (0.001% of rows have values)\n",
    "# 26 Action Indicator\n",
    "# 27 ORDER_FORM_NO\n",
    "# 28 CORRECTION_NO\n",
    "\n",
    "# Takes header row and makes column names\n",
    "col_names = drug_rdd.first()\n",
    "\n",
    "# Removes header col\n",
    "drug_rdd = drug_rdd.filter(lambda x: x != col_names)\n",
    "\n",
    "# Fixes variable type\n",
    "drug_rdd = drug_rdd.map(lambda x: [x[0], x[1], x[2], x[3], x[4], IntegerSafe(x[5]), x[6], x[7], FloatSafe(x[8]), FloatSafe(x[9]), IntegerSafe(x[10]), FloatSafe(x[11]), FloatSafe(x[12]), IntegerSafe(x[13]),x[14], x[15], x[16], FloatSafe(x[17]), x[18], x[19], x[20], FloatSafe(x[21]), x[22]])\n"
   ]
  },
  {
   "cell_type": "code",
   "execution_count": 8,
   "metadata": {},
   "outputs": [
    {
     "name": "stdout",
     "output_type": "stream",
     "text": [
      "+---------+----+----------+\n",
      "|BUYER_ZIP|Year|  ZIP-YEAR|\n",
      "+---------+----+----------+\n",
      "|    93003|2007|93003-2007|\n",
      "|    92649|2006|92649-2006|\n",
      "|    92653|2006|92653-2006|\n",
      "|    92113|2006|92113-2006|\n",
      "|    92113|2006|92113-2006|\n",
      "|    91301|2007|91301-2007|\n",
      "|    92584|2007|92584-2007|\n",
      "|    93402|2012|93402-2012|\n",
      "|    93065|2012|93065-2012|\n",
      "|    95536|2011|95536-2011|\n",
      "+---------+----+----------+\n",
      "only showing top 10 rows\n",
      "\n"
     ]
    }
   ],
   "source": [
    "# To DataFrame\n",
    "drug_df = drug_rdd.toDF(col_names)\n",
    "\n",
    "# Set up for the ZIP-YEAR join\n",
    "drug_df = drug_df.withColumn('Year', substring('TRANSACTION_DATE', -4,4))\n",
    "drug_df = drug_df.withColumn('ZIP-YEAR', concat(col(\"BUYER_ZIP\"), lit(\"-\"), col(\"Year\")))\n",
    "drug_df.select(\"BUYER_ZIP\",\"Year\",'ZIP-YEAR').show(10)"
   ]
  },
  {
   "cell_type": "markdown",
   "metadata": {},
   "source": [
    "### Drug Dataset feature engineering"
   ]
  },
  {
   "cell_type": "code",
   "execution_count": 9,
   "metadata": {},
   "outputs": [],
   "source": [
    "# Becuase we aggregate everything, we may not have to worry about removing nulls\n",
    "\n",
    "#converting strings to numeric values\n",
    "from pyspark.ml.feature import StringIndexer\n",
    "\n",
    "def indexStringColumns(df, cols):\n",
    "    #variable newdf will be updated several times\n",
    "    newdf = df\n",
    "    \n",
    "    for c in cols:\n",
    "        #For each given colum, fits StringIndexerModel, it knows what the unique values are\n",
    "        si = StringIndexer(inputCol=c, outputCol=c+\"-num\")\n",
    "        sm = si.fit(newdf)\n",
    "        #Creates a DataFame by putting the transformed values in the new colum with suffix \"-num\" \n",
    "        #and then drops the original columns.\n",
    "        #and drop the \"-num\" suffix. \n",
    "        newdf = sm.transform(newdf).drop(c)\n",
    "        newdf = newdf.withColumnRenamed(c+\"-num\", c)\n",
    "    return newdf\n",
    "\n",
    "drug_df = indexStringColumns(drug_df, [\"BUYER_COUNTY\"])"
   ]
  },
  {
   "cell_type": "code",
   "execution_count": 10,
   "metadata": {},
   "outputs": [],
   "source": [
    "from pyspark.sql.functions import udf,col\n",
    "# We wrote our own method to One Hot Encode in a more PANDAS way\n",
    "# This will also allow us to aggregate easier\n",
    "def ourOneHotEncoder(df, col_name):\n",
    "    categories = df.select(col_name).distinct().rdd.flatMap(lambda x : x).collect()\n",
    "    categories.sort()\n",
    "    for category in categories:\n",
    "        function = udf(lambda item: 1 if item == category else 0, IntegerType())\n",
    "        new_column_name = col_name+'_'+ category\n",
    "        df = df.withColumn(new_column_name, function(col(col_name)))\n",
    "    return df\n",
    "\n",
    "drug_df = ourOneHotEncoder(drug_df, \"BUYER_BUS_ACT\")\n",
    "drug_df = ourOneHotEncoder(drug_df, \"DRUG_NAME\")"
   ]
  },
  {
   "cell_type": "markdown",
   "metadata": {},
   "source": [
    "# Zip Area DataFrame"
   ]
  },
  {
   "cell_type": "code",
   "execution_count": 11,
   "metadata": {},
   "outputs": [
    {
     "name": "stdout",
     "output_type": "stream",
     "text": [
      "+--------+-----------+-----------+\n",
      "|ZIP Code|    Area_ac|  Area_sqmi|\n",
      "+--------+-----------+-----------+\n",
      "|   21914|478.8578796|0.748215437|\n",
      "|    1001|7877.861328|12.30915833|\n",
      "|   34736|98956.84375|154.6200714|\n",
      "|   46151|133556.1875|208.6815491|\n",
      "|   48039|15943.14258|24.91115952|\n",
      "|    1521|8370.506836|13.07891655|\n",
      "|   49892|106387.2031|166.2299957|\n",
      "|   70639|44236.84375|69.12007141|\n",
      "|   56755|30904.10352|48.28766251|\n",
      "|   64723|29107.58594|45.48060226|\n",
      "+--------+-----------+-----------+\n",
      "only showing top 10 rows\n",
      "\n"
     ]
    }
   ],
   "source": [
    "pop_sq_mile = sc.textFile('s3://data-systems-opioid/ZCTA_area.csv', 24).map(lambda x: x.split(','))\n",
    "col_names = pop_sq_mile.take(1)[0]\n",
    "pop_df = pop_sq_mile.filter(lambda x: x != col_names).toDF(col_names)\n",
    "pop_df = pop_df.select(\"ZIPcode\", \"Area_ac\", \"Area_sqmi\")\n",
    "pop_df = pop_df.withColumnRenamed(\"ZIPcode\", \"ZIP Code\")\n",
    "pop_df.show(10)"
   ]
  },
  {
   "cell_type": "markdown",
   "metadata": {},
   "source": [
    "# Suicide DataFrame"
   ]
  },
  {
   "cell_type": "code",
   "execution_count": 12,
   "metadata": {},
   "outputs": [],
   "source": [
    "death_rdd = sc.textFile('s3://data-systems-opioid/CA_suicides.csv',24).map(lambda x: x.split(','))\n",
    "\n",
    "# Takes header row and makes column names\n",
    "col_names = death_rdd.first()\n",
    "\n",
    "# Removes header col\n",
    "death_rdd = death_rdd.filter(lambda x: x != col_names)\n",
    "\n",
    "# Fix RDD\n",
    "death_rdd = death_rdd.map(lambda x: [x[0], x[1], x[2], IntegerSafe(x[3]), IntegerSafe(x[4])])\n",
    "\n",
    "# To SQL DataFrame\n",
    "death_df = death_rdd.toDF(col_names)\n",
    "death_df = death_df.withColumn('SUI_per_thousand', death_df['Count']/death_df['Population_2018'] * 1000)\n",
    "\n",
    "# Set Up for the ZIP-YEAR merg\n",
    "death_df = death_df.withColumn('ZIP-YEAR', concat(col(\"ZIP Code\"), lit(\"-\"), col(\"Year\")))"
   ]
  },
  {
   "cell_type": "code",
   "execution_count": 13,
   "metadata": {},
   "outputs": [
    {
     "name": "stdout",
     "output_type": "stream",
     "text": [
      "+--------+----+---------------+-----+---------------+--------------------+----------+-----------+-----------+\n",
      "|ZIP Code|Year|Causes of Death|Count|Population_2018|    SUI_per_thousand|  ZIP-YEAR|    Area_ac|  Area_sqmi|\n",
      "+--------+----+---------------+-----+---------------+--------------------+----------+-----------+-----------+\n",
      "|   90022|1999|            SUI|    3|          67446| 0.04448002846721822|90022-1999|2806.332031|4.384893894|\n",
      "|   90022|2000|            SUI|    2|          67446|0.029653352311478816|90022-2000|2806.332031|4.384893894|\n",
      "|   90022|2001|            SUI|    2|          67446|0.029653352311478816|90022-2001|2806.332031|4.384893894|\n",
      "|   90022|2002|            SUI|    4|          67446| 0.05930670462295763|90022-2002|2806.332031|4.384893894|\n",
      "|   90022|2003|            SUI|    7|          67446| 0.10378673309017585|90022-2003|2806.332031|4.384893894|\n",
      "|   90022|2004|            SUI|    4|          67446| 0.05930670462295763|90022-2004|2806.332031|4.384893894|\n",
      "|   90022|2005|            SUI|    2|          67446|0.029653352311478816|90022-2005|2806.332031|4.384893894|\n",
      "|   90022|2006|            SUI|    4|          67446| 0.05930670462295763|90022-2006|2806.332031|4.384893894|\n",
      "|   90022|2007|            SUI|    4|          67446| 0.05930670462295763|90022-2007|2806.332031|4.384893894|\n",
      "|   90022|2008|            SUI|    6|          67446| 0.08896005693443644|90022-2008|2806.332031|4.384893894|\n",
      "+--------+----+---------------+-----+---------------+--------------------+----------+-----------+-----------+\n",
      "only showing top 10 rows\n",
      "\n"
     ]
    }
   ],
   "source": [
    "# Join the Zip Code area dataset to this dataset\n",
    "death_df = death_df.join(pop_df, \"ZIP Code\", \"leftouter\")\n",
    "death_df.show(10)"
   ]
  },
  {
   "cell_type": "markdown",
   "metadata": {},
   "source": [
    "### Calculate the Population Per Square Mile"
   ]
  },
  {
   "cell_type": "code",
   "execution_count": 14,
   "metadata": {},
   "outputs": [],
   "source": [
    "death_df = death_df.withColumn(\"Pop_per_sqmi\", death_df['Population_2018'] / death_df['Area_sqmi'])"
   ]
  },
  {
   "cell_type": "markdown",
   "metadata": {},
   "source": [
    "## Joining drug_df and death_df"
   ]
  },
  {
   "cell_type": "code",
   "execution_count": 15,
   "metadata": {},
   "outputs": [
    {
     "name": "stdout",
     "output_type": "stream",
     "text": [
      "+----------+-----------------+-----------------+-------------+-------------+-----------------------+------------+------------------+--------------------------+------------------------+---------------------------------+-------------------------------+--------------------------------------+--------------------------------------+-------------------------------------+----------------------------------+\n",
      "|  ZIP-YEAR|min(BUYER_COUNTY)|count(BUYER_CITY)|sum(STRENGTH)|sum(QUANTITY)|sum(CALC_BASE_WT_IN_GM)|sum(dos_str)|  avg(DOSAGE_UNIT)|sum(DRUG_NAME_HYDROCODONE)|sum(DRUG_NAME_OXYCODONE)|sum(BUYER_BUS_ACT_CHAIN PHARMACY)|sum(BUYER_BUS_ACT_PRACTITIONER)|sum(BUYER_BUS_ACT_PRACTITIONER-DW/100)|sum(BUYER_BUS_ACT_PRACTITIONER-DW/275)|sum(BUYER_BUS_ACT_PRACTITIONER-DW/30)|sum(BUYER_BUS_ACT_RETAIL PHARMACY)|\n",
      "+----------+-----------------+-----------------+-------------+-------------+-----------------------+------------+------------------+--------------------------+------------------------+---------------------------------+-------------------------------+--------------------------------------+--------------------------------------+-------------------------------------+----------------------------------+\n",
      "|93313-2007|              9.0|              218|          0.0|        529.0|             559.139049|     2042.85|510.55045871559633|                       178|                      40|                              205|                              0|                                     0|                                     0|                                    0|                                13|\n",
      "|91790-2008|              0.0|              193|          0.0|        841.0|      908.5731599999999|      2452.5|487.04663212435236|                       145|                      48|                               30|                             20|                                     0|                                     0|                                    0|                               143|\n",
      "|92008-2007|              2.0|              126|          0.0|        387.0|              383.30595|      1370.0|  513.968253968254|                        92|                      34|                               91|                              5|                                     0|                                     0|                                    0|                                30|\n",
      "|92833-2007|              1.0|              132|          0.0|        210.0|               325.9797|      1575.0|377.27272727272725|                        94|                      38|                              131|                              0|                                     0|                                     0|                                    0|                                 1|\n",
      "|91910-2012|              2.0|              416|      28000.0|       1034.0|         1088.251927725|    4304.671|427.90865384615387|                       263|                     153|                              323|                              0|                                     0|                                     0|                                    0|                                93|\n",
      "+----------+-----------------+-----------------+-------------+-------------+-----------------------+------------+------------------+--------------------------+------------------------+---------------------------------+-------------------------------+--------------------------------------+--------------------------------------+-------------------------------------+----------------------------------+\n",
      "only showing top 5 rows\n",
      "\n"
     ]
    }
   ],
   "source": [
    "# Change this join based on what flags we add\n",
    "drug_agg_df = drug_df.groupBy('ZIP-YEAR').agg(\n",
    "    min('BUYER_COUNTY'), # Should only be one per ZIP\n",
    "    count('BUYER_CITY'),\n",
    "    sum('STRENGTH'),\n",
    "    sum('QUANTITY'),\n",
    "    sum('CALC_BASE_WT_IN_GM'),\n",
    "    sum('dos_str'),\n",
    "    avg('DOSAGE_UNIT'),\n",
    "    sum('DRUG_NAME_HYDROCODONE'),\n",
    "    sum('DRUG_NAME_OXYCODONE'),\n",
    "    sum('BUYER_BUS_ACT_CHAIN PHARMACY'),\n",
    "    sum('BUYER_BUS_ACT_PRACTITIONER'),\n",
    "    sum('BUYER_BUS_ACT_PRACTITIONER-DW/100'),\n",
    "    sum('BUYER_BUS_ACT_PRACTITIONER-DW/275'),\n",
    "    sum('BUYER_BUS_ACT_PRACTITIONER-DW/30'),\n",
    "    sum('BUYER_BUS_ACT_RETAIL PHARMACY')\n",
    ")\n",
    "\n",
    "drug_agg_df.show(5)"
   ]
  },
  {
   "cell_type": "markdown",
   "metadata": {},
   "source": [
    "### How to aggregate each column\n",
    "- BUYER_COUNTY - min (later string encode)\n",
    "- BUYER_BUS_ACT - one hot encode sum and divide by zip's count()\n",
    "- DRUG_NAME\t(after encoded) - sum\n",
    "- count(BUYER_CITY) - do we even need this?\n",
    "- sum(STRENGTH)\n",
    "- sum(QUANTITY)\n",
    "- sum(CALC_BASE_WT_IN_GM)\n",
    "- sum(dos_str)\n",
    "- Count - total count\n",
    "- average (DOSAGE_UNIT)"
   ]
  },
  {
   "cell_type": "code",
   "execution_count": 16,
   "metadata": {},
   "outputs": [
    {
     "name": "stdout",
     "output_type": "stream",
     "text": [
      "+----------+-----------------+-----------------+-------------+-------------+-----------------------+------------------+------------------+--------------------------+------------------------+---------------------------------+-------------------------------+--------------------------------------+--------------------------------------+-------------------------------------+----------------------------------+-----+--------------------+------------------+\n",
      "|  ZIP-YEAR|min(BUYER_COUNTY)|count(BUYER_CITY)|sum(STRENGTH)|sum(QUANTITY)|sum(CALC_BASE_WT_IN_GM)|      sum(dos_str)|  avg(DOSAGE_UNIT)|sum(DRUG_NAME_HYDROCODONE)|sum(DRUG_NAME_OXYCODONE)|sum(BUYER_BUS_ACT_CHAIN PHARMACY)|sum(BUYER_BUS_ACT_PRACTITIONER)|sum(BUYER_BUS_ACT_PRACTITIONER-DW/100)|sum(BUYER_BUS_ACT_PRACTITIONER-DW/275)|sum(BUYER_BUS_ACT_PRACTITIONER-DW/30)|sum(BUYER_BUS_ACT_RETAIL PHARMACY)|Count|    SUI_per_thousand|      Pop_per_sqmi|\n",
      "+----------+-----------------+-----------------+-------------+-------------+-----------------------+------------------+------------------+--------------------------+------------------------+---------------------------------+-------------------------------+--------------------------------------+--------------------------------------+-------------------------------------+----------------------------------+-----+--------------------+------------------+\n",
      "|90026-2007|              0.0|               88|          0.0|        142.0|     271.17572900000005|           1172.85| 341.3636363636364|                        66|                      22|                               26|                              2|                                     0|                                     0|                                    0|                                60|    0|                 0.0| 16015.71139677325|\n",
      "|90031-2009|              0.0|               27|        100.0|         41.0|     50.655849999999994|             215.0| 470.3703703703704|                        25|                       2|                               18|                              1|                                     0|                                     0|                                    0|                                 8|    1| 0.02557348541032657|11118.343805001226|\n",
      "|90211-2010|              0.0|              224|          0.0|       2917.0|      713.4047425750001|         3209.8355| 363.8482142857143|                       131|                      93|                               31|                              7|                                     0|                                     0|                                    0|                               186|    1| 0.12470382840753212|11388.434376411386|\n",
      "|90505-2010|              0.0|              370|          0.0|       7000.0|     1012.2232050750001|         4442.3355| 394.9189189189189|                       259|                     111|                              236|                             24|                                     0|                                     0|                                    2|                               108|    7|  0.1873260543780775| 6449.610749421945|\n",
      "|90815-2010|              0.0|              199|          0.0|        441.0|             509.824625|            1990.0|488.94472361809045|                       151|                      48|                              170|                              0|                                     0|                                     0|                                    0|                                29|    6| 0.14866572511707427| 5519.119744830988|\n",
      "|90815-2011|              0.0|              234|          0.0|        597.0|      661.1660727249998|2529.6710000000003|466.79487179487177|                       161|                      73|                              198|                              1|                                     0|                                     0|                                    0|                                35|    4| 0.09911048341138284| 5519.119744830988|\n",
      "|91303-2007|              0.0|               97|          0.0|        191.0|     241.05254999999997|             887.5|425.25773195876286|                        78|                      19|                               51|                              3|                                     0|                                     0|                                    0|                                43|    2| 0.06583278472679394|13934.506880134333|\n",
      "|91506-2009|              0.0|              137|          0.0|        216.0|     240.43338000000003|            1245.0|331.82481751824815|                       102|                      35|                               98|                              0|                                     0|                                     0|                                    0|                                39|    3|  0.1644286105782406| 7503.647292842685|\n",
      "|91602-2008|              0.0|               52|          0.0|        109.0|              119.18171|             585.0| 361.9230769230769|                        43|                       9|                                0|                              2|                                     0|                                     0|                                    0|                                50|    1|0.052787162162162164| 9053.741627194706|\n",
      "|91746-2006|              0.0|               10|         null|         14.0|                12.9987|              72.5|             340.0|                         9|                       1|                               10|                              0|                                     0|                                     0|                                    0|                                 0|    3|   0.097911227154047| 5314.944418492584|\n",
      "+----------+-----------------+-----------------+-------------+-------------+-----------------------+------------------+------------------+--------------------------+------------------------+---------------------------------+-------------------------------+--------------------------------------+--------------------------------------+-------------------------------------+----------------------------------+-----+--------------------+------------------+\n",
      "only showing top 10 rows\n",
      "\n"
     ]
    }
   ],
   "source": [
    "death_join_df = death_df.select('ZIP-YEAR','Count','SUI_per_thousand', \"Pop_per_sqmi\")\n",
    "drug_death_df = drug_agg_df.join(death_join_df, 'ZIP-YEAR', 'left_outer')\n",
    "drug_death_df.show(10)"
   ]
  },
  {
   "cell_type": "markdown",
   "metadata": {},
   "source": [
    "## Rename all of the columns in the dataframe"
   ]
  },
  {
   "cell_type": "code",
   "execution_count": 17,
   "metadata": {},
   "outputs": [],
   "source": [
    "new_names = ['ZIP_YEAR',\n",
    " 'min_BUYER_COUNTY',\n",
    " 'BUYER_CITY_count',\n",
    " 'STRENGTH_sum',\n",
    " 'QUANTITY_sum',\n",
    " 'CALC_BASE_WT_IN_GM_sum',\n",
    " 'dos_str_sum',\n",
    " 'DOSAGE_UNIT_avg',\n",
    " 'DRUG_NAME_HYDROCODONE_sum',\n",
    " 'DRUG_NAME_OXYCODONE_sum',\n",
    " 'BUYER_BUS_ACT_CHAIN_PHARMACY_sum',\n",
    " 'BUYER_BUS_ACT_PRACTITIONER_sum',\n",
    " 'BUYER_BUS_ACT_PRACTITIONER_DW_100_sum',\n",
    " 'BUYER_BUS_ACT_PRACTITIONER_DW_275_sum',\n",
    " 'BUYER_BUS_ACT_PRACTITIONER_DW_30_sum',\n",
    " 'BUYER_BUS_ACT_RETAIL_PHARMACY_sum',\n",
    " 'Count',\n",
    " 'SUI_per_thousand',\n",
    " 'Pop_per_sqmi']\n",
    "\n",
    "old_names = drug_death_df.schema.names"
   ]
  },
  {
   "cell_type": "code",
   "execution_count": 18,
   "metadata": {},
   "outputs": [],
   "source": [
    "drug_death_df = reduce(lambda data, i: data.withColumnRenamed(old_names[i], new_names[i]), range(len(old_names)), drug_death_df)"
   ]
  },
  {
   "cell_type": "code",
   "execution_count": 20,
   "metadata": {},
   "outputs": [
    {
     "name": "stdout",
     "output_type": "stream",
     "text": [
      "+----------+----------------+----------------+------------+------------+----------------------+-----------+------------------+-------------------------+-----------------------+--------------------------------+------------------------------+-------------------------------------+-------------------------------------+------------------------------------+---------------------------------+-----+-------------------+------------------+\n",
      "|  ZIP_YEAR|min_BUYER_COUNTY|BUYER_CITY_count|STRENGTH_sum|QUANTITY_sum|CALC_BASE_WT_IN_GM_sum|dos_str_sum|   DOSAGE_UNIT_avg|DRUG_NAME_HYDROCODONE_sum|DRUG_NAME_OXYCODONE_sum|BUYER_BUS_ACT_CHAIN_PHARMACY_sum|BUYER_BUS_ACT_PRACTITIONER_sum|BUYER_BUS_ACT_PRACTITIONER_DW_100_sum|BUYER_BUS_ACT_PRACTITIONER_DW_275_sum|BUYER_BUS_ACT_PRACTITIONER_DW_30_sum|BUYER_BUS_ACT_RETAIL_PHARMACY_sum|Count|   SUI_per_thousand|      Pop_per_sqmi|\n",
      "+----------+----------------+----------------+------------+------------+----------------------+-----------+------------------+-------------------------+-----------------------+--------------------------------+------------------------------+-------------------------------------+-------------------------------------+------------------------------------+---------------------------------+-----+-------------------+------------------+\n",
      "|90026-2007|             0.0|              88|         0.0|       142.0|    271.17572900000005|    1172.85| 341.3636363636364|                       66|                     22|                              26|                             2|                                    0|                                    0|                                   0|                               60|    0|                0.0| 16015.71139677325|\n",
      "|90031-2009|             0.0|              27|       100.0|        41.0|    50.655849999999994|      215.0| 470.3703703703704|                       25|                      2|                              18|                             1|                                    0|                                    0|                                   0|                                8|    1|0.02557348541032657|11118.343805001226|\n",
      "|90211-2010|             0.0|             224|         0.0|      2917.0|     713.4047425750001|  3209.8355| 363.8482142857143|                      131|                     93|                              31|                             7|                                    0|                                    0|                                   0|                              186|    1|0.12470382840753212|11388.434376411386|\n",
      "|90505-2010|             0.0|             370|         0.0|      7000.0|    1012.2232050750001|  4442.3355| 394.9189189189189|                      259|                    111|                             236|                            24|                                    0|                                    0|                                   2|                              108|    7| 0.1873260543780775| 6449.610749421945|\n",
      "|90815-2010|             0.0|             199|         0.0|       441.0|            509.824625|     1990.0|488.94472361809045|                      151|                     48|                             170|                             0|                                    0|                                    0|                                   0|                               29|    6|0.14866572511707427| 5519.119744830988|\n",
      "+----------+----------------+----------------+------------+------------+----------------------+-----------+------------------+-------------------------+-----------------------+--------------------------------+------------------------------+-------------------------------------+-------------------------------------+------------------------------------+---------------------------------+-----+-------------------+------------------+\n",
      "only showing top 5 rows\n",
      "\n"
     ]
    }
   ],
   "source": [
    "drug_death_df.show(5)"
   ]
  },
  {
   "cell_type": "code",
   "execution_count": 22,
   "metadata": {
    "scrolled": false
   },
   "outputs": [],
   "source": [
    "drug_death_df.write.option(\"path\", \"./drug_death\").saveAsTable('drug_death')"
   ]
  },
  {
   "cell_type": "markdown",
   "metadata": {},
   "source": [
    "## Read From the Parquet File"
   ]
  },
  {
   "cell_type": "code",
   "execution_count": 26,
   "metadata": {},
   "outputs": [
    {
     "name": "stdout",
     "output_type": "stream",
     "text": [
      "+----------+----------------+----------------+------------+------------+----------------------+-----------+------------------+-------------------------+-----------------------+--------------------------------+------------------------------+-------------------------------------+-------------------------------------+------------------------------------+---------------------------------+-----+--------------------+------------------+\n",
      "|  ZIP_YEAR|min_BUYER_COUNTY|BUYER_CITY_count|STRENGTH_sum|QUANTITY_sum|CALC_BASE_WT_IN_GM_sum|dos_str_sum|   DOSAGE_UNIT_avg|DRUG_NAME_HYDROCODONE_sum|DRUG_NAME_OXYCODONE_sum|BUYER_BUS_ACT_CHAIN_PHARMACY_sum|BUYER_BUS_ACT_PRACTITIONER_sum|BUYER_BUS_ACT_PRACTITIONER_DW_100_sum|BUYER_BUS_ACT_PRACTITIONER_DW_275_sum|BUYER_BUS_ACT_PRACTITIONER_DW_30_sum|BUYER_BUS_ACT_RETAIL_PHARMACY_sum|Count|    SUI_per_thousand|      Pop_per_sqmi|\n",
      "+----------+----------------+----------------+------------+------------+----------------------+-----------+------------------+-------------------------+-----------------------+--------------------------------+------------------------------+-------------------------------------+-------------------------------------+------------------------------------+---------------------------------+-----+--------------------+------------------+\n",
      "|90066-2008|             0.0|              75|         0.0|       239.0|            128.001978|     530.35| 398.6666666666667|                       64|                     11|                              37|                             1|                                    0|                                    0|                                   0|                               37|   10|   0.167372420372571|11999.672522435625|\n",
      "|90067-2012|             0.0|              44|        null|       108.0|    236.75555000000003|      652.5|             400.0|                       22|                     22|                               0|                             1|                                    0|                                    0|                                   0|                               43|    0|                 0.0| 6833.788811727684|\n",
      "|90260-2010|             0.0|              58|         0.0|      6373.0|             342.65551|      530.0|1089.4827586206898|                       51|                      7|                              40|                            16|                                    0|                                    0|                                   0|                                2|    3| 0.08423653619363172|13182.663985185825|\n",
      "|90723-2012|             0.0|             119|        null|       316.0|             463.56413|     1065.0| 556.8067226890756|                      101|                     18|                              69|                             0|                                    0|                                    0|                                   0|                               50|    1| 0.01817520901490367|11518.523779159228|\n",
      "|90744-2010|             0.0|              70|        null|       145.0|    231.93769000000003|     1025.0|446.14285714285717|                       51|                     19|                              50|                             1|                                    0|                                    0|                                   0|                               19|    3| 0.05283643600626992| 5989.678287287024|\n",
      "|90803-2009|             0.0|             129|         0.0|       207.0|    310.60634999999996|     1722.5|346.51162790697674|                       93|                     36|                             103|                             3|                                    0|                                    0|                                   0|                               23|    7| 0.21795989537925023| 6783.678677285094|\n",
      "|90806-2012|             0.0|             326|        null|      1985.0|            1182.27993|     3445.0| 561.3803680981595|                      232|                     94|                             161|                             3|                                    0|                                    0|                                   0|                              162|    2| 0.04696268814426938|11973.878590367825|\n",
      "|90814-2009|             0.0|              22|         0.0|        52.0|             64.047975|      220.0| 563.6363636363636|                       17|                      5|                              21|                             0|                                    0|                                    0|                                   0|                                1|    0|                 0.0|13471.374139717955|\n",
      "|91006-2007|             0.0|             116|         0.0|       169.0|         185.114576575|  1145.1855| 293.1034482758621|                       92|                     24|                              93|                             0|                                    0|                                    0|                                   6|                               17|    2|0.060240963855421686| 5145.438262779974|\n",
      "|91739-2007|             4.0|              47|        null|        70.0|              44.04285|      380.0|208.51063829787233|                       47|                      0|                              47|                             0|                                    0|                                    0|                                   0|                                0|    0|                 0.0|1328.1755700249746|\n",
      "|91763-2010|             4.0|              79|         0.0|       144.0|    216.08897499999998|     1052.5| 436.7088607594937|                       47|                     32|                              44|                             1|                                    0|                                    0|                                   0|                               34|    1|0.026170474470702153| 7400.276147179374|\n",
      "|91770-2010|             0.0|             102|         0.0|       141.0|            170.796125|      810.0| 389.2156862745098|                       95|                      7|                              71|                             2|                                    0|                                    0|                                   0|                               29|    5| 0.07814820024694831| 9908.503451877155|\n",
      "|91902-2011|             2.0|              72|        null|       823.0|             326.36834|      805.0| 825.2777777777778|                       40|                     32|                              25|                             0|                                    0|                                    0|                                   0|                               47|    1| 0.05060216577269507|2196.9042599651125|\n",
      "|92019-2008|             2.0|              68|         0.0|       221.0|    226.57164999999998|      682.5| 560.2941176470588|                       30|                     38|                              63|                             0|                                    0|                                    0|                                   0|                                5|    3| 0.06957973838018369| 1556.543363315419|\n",
      "|92113-2008|             2.0|              43|         0.0|       139.0|    182.72619599999996|     810.35|509.30232558139534|                       19|                     24|                              34|                             0|                                    0|                                    0|                                   0|                                9|    1| 0.01770600941959701|10735.582116354128|\n",
      "|92231-2010|            39.0|              64|        null|       129.0|    153.12310000000002|      590.0|          464.0625|                       45|                     19|                              34|                             0|                                    0|                                    0|                                   0|                               30|    3| 0.07489888650322066| 701.2035872819946|\n",
      "|92277-2012|             4.0|              33|        null|       189.0|    197.99048302499997|   337.3355| 1213.030303030303|                       23|                     10|                              33|                             0|                                    0|                                    0|                                   0|                                0|    7|    0.29193427308366| 17.18218253016876|\n",
      "|92555-2007|             3.0|              31|        null|       104.0|              108.6403|      225.0| 980.6451612903226|                       28|                      3|                              24|                             0|                                    0|                                    0|                                   0|                                7|    2| 0.04604475550234829| 518.2844627114094|\n",
      "|92562-2007|             3.0|             214|         0.0|       611.0|     601.8076500000001|     2192.5|427.10280373831773|                      151|                     63|                             198|                             1|                                    5|                                    0|                                   0|                               10|    5| 0.07932478740956975| 576.0454941268981|\n",
      "|92583-2008|             3.0|             217|         0.0|       479.0|     538.0655000000002|     2520.0|412.44239631336404|                      166|                     51|                             150|                             0|                                    0|                                    0|                                   0|                               67|    2| 0.06119576525304449|1122.9100918214117|\n",
      "+----------+----------------+----------------+------------+------------+----------------------+-----------+------------------+-------------------------+-----------------------+--------------------------------+------------------------------+-------------------------------------+-------------------------------------+------------------------------------+---------------------------------+-----+--------------------+------------------+\n",
      "only showing top 20 rows\n",
      "\n"
     ]
    }
   ],
   "source": [
    "ss.sql(\"select * from parquet.`./drug_death`\").show()"
   ]
  },
  {
   "cell_type": "code",
   "execution_count": 27,
   "metadata": {},
   "outputs": [
    {
     "name": "stdout",
     "output_type": "stream",
     "text": [
      "--- 2520.0900371074677 seconds ---\n"
     ]
    }
   ],
   "source": [
    "print(\"--- %s seconds ---\" % (time.time() - start_time))"
   ]
  },
  {
   "cell_type": "code",
   "execution_count": null,
   "metadata": {},
   "outputs": [],
   "source": []
  },
  {
   "cell_type": "code",
   "execution_count": null,
   "metadata": {},
   "outputs": [],
   "source": []
  }
 ],
 "metadata": {
  "kernelspec": {
   "display_name": "Python 3",
   "language": "python",
   "name": "python3"
  },
  "language_info": {
   "codemirror_mode": {
    "name": "ipython",
    "version": 3
   },
   "file_extension": ".py",
   "mimetype": "text/x-python",
   "name": "python",
   "nbconvert_exporter": "python",
   "pygments_lexer": "ipython3",
   "version": "3.7.3"
  }
 },
 "nbformat": 4,
 "nbformat_minor": 2
}
